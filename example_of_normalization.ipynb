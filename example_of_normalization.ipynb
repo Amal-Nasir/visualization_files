{
 "cells": [
  {
   "cell_type": "code",
   "execution_count": 1,
   "id": "b6473a3b-d5fb-4da8-bd97-bcb28f8dfa81",
   "metadata": {},
   "outputs": [
    {
     "name": "stdout",
     "output_type": "stream",
     "text": [
      "[ 1203 -1025    87     0  1870   288    99  -990   248]\n",
      "2895\n",
      "0.08808290155440414\n",
      "[105.96373057 -90.28497409   7.66321244   0.         164.71502591\n",
      "  25.36787565   8.72020725 -87.20207254  21.84455959]\n",
      "-90.28497409326424\n"
     ]
    },
    {
     "data": {
      "text/plain": [
       "array([196,   0,  97,  90, 255, 115,  99,   3, 112], dtype=uint8)"
      ]
     },
     "execution_count": 1,
     "metadata": {},
     "output_type": "execute_result"
    }
   ],
   "source": [
    "import numpy as np\n",
    "import pandas as pd\n",
    "\n",
    "def getNormed(this_array, this_min = 0, this_max = 255, set_to_int = True):\n",
    "    new_var = this_array.copy()\n",
    "    print(new_var)\n",
    "    print(new_var.max() - new_var.min())\n",
    "    rat = (this_max - this_min)/(new_var.max() - new_var.min())\n",
    "    print(rat)\n",
    "    new_var = new_var * rat\n",
    "    print(new_var)\n",
    "    print(new_var.min())\n",
    "    new_var -= new_var.min()\n",
    "    new_var += this_min\n",
    "    if set_to_int:\n",
    "        return new_var.astype('uint8')\n",
    "    return new_var\n",
    "\n",
    "arr1 = np.array([1203, -1025, 87, 0, 1870, 288, 99, -990, 248])\n",
    "getNormed(arr1)"
   ]
  },
  {
   "cell_type": "code",
   "execution_count": 2,
   "id": "04122bb6-8677-4e34-b523-c5260aac9a35",
   "metadata": {},
   "outputs": [],
   "source": [
    "arr = np.array([1203, 87, 288, 99, 1200, 248])"
   ]
  },
  {
   "cell_type": "code",
   "execution_count": 3,
   "id": "a871dc51-86d8-4b2a-9526-9a84ca6e2f37",
   "metadata": {},
   "outputs": [
    {
     "data": {
      "text/plain": [
       "1203"
      ]
     },
     "execution_count": 3,
     "metadata": {},
     "output_type": "execute_result"
    }
   ],
   "source": [
    "arr.max()"
   ]
  },
  {
   "cell_type": "code",
   "execution_count": 4,
   "id": "180a8255-43d7-4e1f-8a75-d26226b1e539",
   "metadata": {},
   "outputs": [
    {
     "data": {
      "text/plain": [
       "87"
      ]
     },
     "execution_count": 4,
     "metadata": {},
     "output_type": "execute_result"
    }
   ],
   "source": [
    "arr.min()"
   ]
  },
  {
   "cell_type": "code",
   "execution_count": 5,
   "id": "b1572ce7-b7cb-426a-80c3-a882804593e9",
   "metadata": {},
   "outputs": [
    {
     "name": "stdout",
     "output_type": "stream",
     "text": [
      "[1203   87  288   99 1200  248]\n",
      "1116\n",
      "0.22849462365591397\n",
      "[274.87903226  19.87903226  65.80645161  22.62096774 274.19354839\n",
      "  56.66666667]\n",
      "19.879032258064516\n"
     ]
    },
    {
     "data": {
      "text/plain": [
       "array([255,   0,  45,   2, 254,  36], dtype=uint8)"
      ]
     },
     "execution_count": 5,
     "metadata": {},
     "output_type": "execute_result"
    }
   ],
   "source": [
    "getNormed(arr)"
   ]
  }
 ],
 "metadata": {
  "kernelspec": {
   "display_name": "Python 3",
   "language": "python",
   "name": "python3"
  },
  "language_info": {
   "codemirror_mode": {
    "name": "ipython",
    "version": 3
   },
   "file_extension": ".py",
   "mimetype": "text/x-python",
   "name": "python",
   "nbconvert_exporter": "python",
   "pygments_lexer": "ipython3",
   "version": "3.9.7"
  }
 },
 "nbformat": 4,
 "nbformat_minor": 5
}
